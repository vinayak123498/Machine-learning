{
  "nbformat": 4,
  "nbformat_minor": 0,
  "metadata": {
    "colab": {
      "provenance": []
    },
    "kernelspec": {
      "name": "python3",
      "display_name": "Python 3"
    },
    "language_info": {
      "name": "python"
    }
  },
  "cells": [
    {
      "cell_type": "markdown",
      "source": [
        "# **Answer 1**"
      ],
      "metadata": {
        "id": "U_pKEAryU-v3"
      }
    },
    {
      "cell_type": "markdown",
      "source": [
        "**Definition**: AI is the broad field of making machines think and act like humans.\n",
        "\n",
        "**Scope**: Any system that can perform tasks requiring human intelligence (problem-solving, decision-making, perception, language understanding).\n",
        "\n",
        "**Examples**:\n",
        "\n",
        "Chatbots (like me 😊)\n",
        "\n",
        "Self-driving cars\n",
        "\n",
        "Facial recognition systems\n",
        "\n",
        " **AI** = Big umbrella field. ML, DL, and many other approaches live under it."
      ],
      "metadata": {
        "id": "ZBmJZafVVLd1"
      }
    },
    {
      "cell_type": "markdown",
      "source": [
        "**Definition**: A subset of AI where machines learn patterns from data instead of being explicitly programmed.\n",
        "\n",
        "**How it works**: Uses algorithms that improve automatically with experience (data).\n",
        "\n",
        "**Examples**:\n",
        "\n",
        "Spam email filtering\n",
        "\n",
        "Netflix / YouTube recommendations\n",
        "\n",
        "Stock price prediction\n",
        "\n",
        " ***ML*** = How AI “learns” from data."
      ],
      "metadata": {
        "id": "LvESd4o5VYv0"
      }
    },
    {
      "cell_type": "markdown",
      "source": [
        "**Definition**: A subset of ML that uses neural networks with many layers to learn complex patterns.\n",
        "\n",
        "**Key point**: Needs a lot of data and computing power.\n",
        "\n",
        "**Examples**:\n",
        "\n",
        "Voice assistants (Alexa, Siri, Google Assistant)\n",
        "\n",
        "Image recognition (detecting cats vs. dogs)\n",
        "\n",
        "Medical image diagnostics\n",
        "\n",
        " **DL** = ML on steroids (very powerful, very data-hungry)."
      ],
      "metadata": {
        "id": "NW0qYj1oVmDd"
      }
    },
    {
      "cell_type": "markdown",
      "source": [
        "**Definition**: A broader field focused on extracting knowledge and insights from data.\n",
        "\n",
        "**Includes**:\n",
        "\n",
        "Collecting data\n",
        "\n",
        "Cleaning and processing data\n",
        "\n",
        "Applying ML/AI techniques\n",
        "\n",
        "Data visualization and storytelling\n",
        "\n",
        "**Examples**:\n",
        "\n",
        "Analyzing customer purchase behavior\n",
        "\n",
        "Predicting company sales growth\n",
        "\n",
        "Optimizing business processes\n",
        "\n",
        " **DS** = End-to-end process of working with data (AI/ML are just tools inside it)."
      ],
      "metadata": {
        "id": "O2G-pzt6VsMV"
      }
    },
    {
      "cell_type": "markdown",
      "source": [
        "# **Answer 2**"
      ],
      "metadata": {
        "id": "Ws2WQxMDWP3O"
      }
    },
    {
      "cell_type": "markdown",
      "source": [
        "**Supervised Learning**\n",
        "\n",
        "**Definition**: The model is trained on labeled data (inputs with correct outputs).\n",
        "\n",
        "**Goal**: Learn a mapping from input → output.\n",
        "\n",
        "**Examples of algorithms**: Linear Regression, Logistic Regression, Decision Trees, Support Vector Machines.\n",
        "\n",
        "**Real-world example**:\n",
        "Email spam detection → Emails (input) are labeled as “spam” or “not spam.” The model learns from this and predicts labels for new emails."
      ],
      "metadata": {
        "id": "J9dErbTgWSst"
      }
    },
    {
      "cell_type": "markdown",
      "source": [
        " **Unsupervised Learning**\n",
        "\n",
        "**Definition**: The model works on unlabeled data and tries to find hidden patterns or groupings.\n",
        "\n",
        "**Goal**: Discover structure in data without predefined answers.\n",
        "\n",
        "**Examples of algorithms**: K-Means Clustering, Hierarchical Clustering, PCA (Dimensionality Reduction).\n",
        "\n",
        "**Real-world example**:\n",
        "\n",
        "Customer segmentation in marketing → A company groups customers by purchasing behavior, even though no labels exist (e.g., “frequent buyers,” “occasional buyers”)."
      ],
      "metadata": {
        "id": "h9RpFwBuWSpd"
      }
    },
    {
      "cell_type": "markdown",
      "source": [
        " **Reinforcement Learning (RL)**\n",
        "\n",
        "**Definition**: The model (called an agent) learns by interacting with an environment, receiving rewards or penalties based on its actions.\n",
        "\n",
        "**Goal**: Learn a strategy (policy) to maximize long-term reward.\n",
        "\n",
        "**Examples of algorithms**: Q-Learning, Deep Q Networks (DQN).\n",
        "\n",
        "**Real-world example**:\n",
        "\n",
        "Self-driving cars → The car learns to stay in lanes, avoid collisions, and follow rules through trial and error with rewards (safe driving) and penalties (accidents)."
      ],
      "metadata": {
        "id": "c22aJnKcWSA9"
      }
    },
    {
      "cell_type": "markdown",
      "source": [
        " **Semi-Supervised Learning (Hybrid)**\n",
        "\n",
        "**Definition**: Uses a small amount of labeled data + a large amount of unlabeled data.\n",
        "\n",
        "**Goal**: Improve accuracy when labeled data is expensive or scarce.\n",
        "\n",
        "**Real-world example:**\n",
        "\n",
        "Medical diagnosis → A few MRI scans are labeled by doctors as “tumor” or “no tumor.” The model then uses many unlabeled scans to improve performance."
      ],
      "metadata": {
        "id": "oYnxhJzvXgp9"
      }
    },
    {
      "cell_type": "markdown",
      "source": [
        "# **ANSWER 3**"
      ],
      "metadata": {
        "id": "DoSQVA0qXrCN"
      }
    },
    {
      "cell_type": "markdown",
      "source": [
        "**Overfitting**\n",
        "\n",
        "**Definition**: When a model learns too much from the training data — including noise and random fluctuations — so it performs very well on training data but poorly on new/unseen data.\n",
        "\n",
        "**Cause**: Model is too complex (too many parameters, too many layers).\n",
        "\n",
        "**Analogy**: Like a student memorizing past exam answers instead of understanding the concepts.\n",
        "\n",
        "**Example**: A decision tree that grows too deep and perfectly classifies training data but fails on test data."
      ],
      "metadata": {
        "id": "mjvd8fAzXyg3"
      }
    },
    {
      "cell_type": "markdown",
      "source": [
        " **Underfitting**\n",
        "\n",
        "**Definition**: When a model is too simple and cannot capture the underlying patterns in the data. It performs poorly on both training and test data.\n",
        "\n",
        "**Cause**: Model is not powerful enough (too few parameters, overly simplistic).\n",
        "\n",
        "**Analogy**: Like a student who only skimmed notes and cannot answer even basic exam questions.\n",
        "\n",
        "**Example**: Using a straight line (linear regression) to model a dataset with a complex nonlinear relationship."
      ],
      "metadata": {
        "id": "1bEJkpvgXydx"
      }
    },
    {
      "cell_type": "markdown",
      "source": [
        "**Bias-Variance Tradeoff**\n",
        "\n",
        "**Bias**: Error due to wrong assumptions in the model (e.g., assuming data is linear when it’s not). High bias → underfitting.\n",
        "\n",
        "**Variance**: Error due to too much sensitivity to training data (model adapts too closely to noise). High variance → overfitting.\n",
        "\n",
        "**Tradeoff**:\n",
        "\n",
        "If the model is too simple → high bias, low variance → underfitting.\n",
        "\n",
        "If the model is too complex → low bias, high variance → overfitting.\n",
        "\n",
        "The goal is to find the sweet spot: balance between bias and variance for best generalization on unseen data."
      ],
      "metadata": {
        "id": "SpjxHe67Xyb9"
      }
    },
    {
      "cell_type": "markdown",
      "source": [
        "# **Answer 4**"
      ],
      "metadata": {
        "id": "QqDMklK3Y-Bd"
      }
    },
    {
      "cell_type": "markdown",
      "source": [
        "**Definition**: Outliers are data points that differ significantly from the majority of the dataset.\n",
        "\n",
        "**important**:\n",
        "\n",
        "They can distort statistical analysis (like mean, standard deviation).\n",
        "\n",
        "They can mislead machine learning models if not handled properly.\n",
        "\n",
        "**Example**: In a dataset of people’s ages [25, 27, 30, 29, 120], the value 120 is an outlier."
      ],
      "metadata": {
        "id": "7jn8I-X6Y98X"
      }
    },
    {
      "cell_type": "markdown",
      "source": [
        "**Three Common Techniques for Handling Outliers**\n",
        "1. **Removal (Deleting Outliers)**\n",
        "\n",
        "If outliers are errors (e.g., typos, wrong sensor readings), they can simply be removed.\n",
        "\n",
        "**Example**: A person’s recorded age as 500 → clear error → remove it.\n",
        "\n",
        "2. **Transformation (Reducing Impact)**\n",
        "\n",
        "Apply mathematical transformations to reduce the influence of extreme values.\n",
        "\n",
        "**Techniques**: Log transformation, square root, or normalization.\n",
        "\n",
        "**Example**: Skewed income data → apply log transformation to compress extreme salaries.\n",
        "\n",
        "3. **Imputation / Capping (Replacing Outliers)**\n",
        "\n",
        "Instead of removing, replace outliers with more reasonable values.\n",
        "\n",
        "**Methods**:\n",
        "\n",
        "Mean/Median Imputation: Replace with average or median.\n",
        "\n",
        "**Winsorization (Capping):** Replace extreme values with a percentile boundary (e.g., cap all values above 95th percentile).\n",
        "\n",
        "**Example**: If house price dataset has an unrealistic entry of $50 million, replace it with the 95th percentile price.\n",
        "\n",
        "\n",
        "\n"
      ],
      "metadata": {
        "id": "u8YeQrc8Y9ze"
      }
    },
    {
      "cell_type": "markdown",
      "source": [
        "# **Answer 5**"
      ],
      "metadata": {
        "id": "2GP8LrMNZ8ju"
      }
    },
    {
      "cell_type": "markdown",
      "source": [
        "**Handling Missing Values in a Dataset**\n",
        "**Step 1: Detect Missing Values**\n",
        "\n",
        "Check how many missing values exist.\n",
        "\n",
        "In Python (pandas):\n",
        "\n",
        "df.isnull().sum()\n",
        "\n",
        "**Step 2: Analyze the Cause**\n",
        "\n",
        "Missing values can be:\n",
        "\n",
        "MCAR (Missing Completely at Random): No pattern, safe to handle with imputation.\n",
        "\n",
        "MAR (Missing at Random): Related to other variables (e.g., income missing depending on age group).\n",
        "\n",
        "MNAR (Missing Not at Random): Missingness depends on the value itself (e.g., people not reporting very high incomes).\n",
        "\n",
        "**Step 3: Decide on a Strategy**\n",
        "\n",
        "Remove rows/columns (if too many missing values and not useful).\n",
        "\n",
        "Impute values (most common approach)."
      ],
      "metadata": {
        "id": "0mdQEU_HZ8av"
      }
    },
    {
      "cell_type": "markdown",
      "source": [
        "**Imputation Techniques**\n",
        "1. **For Numerical Data → Mean/Median Imputation**\n",
        "\n",
        "Replace missing values with the mean (if data is normally distributed) or median (if skewed).\n",
        "\n",
        "**Example**:\n",
        "\n",
        "Dataset of ages: [25, 30, NaN, 28] → Replace NaN with median 28.\n",
        "\n",
        " **Python Example:**\n",
        "\n",
        "df['Age'].fillna(df['Age'].median(), inplace=True)\n",
        "\n",
        "2. **For Categorical Data → Mode Imputation**\n",
        "\n",
        "Replace missing values with the most frequent category (mode).\n",
        "\n",
        "**Example**:\n",
        "\n",
        "Dataset of cities: [Paris, NaN, London, Paris] → Replace NaN with \"Paris\" (mode).\n",
        "\n",
        " **Python Example:**\n",
        "\n",
        "df['City'].fillna(df['City'].mode()[0], inplace=True)\n"
      ],
      "metadata": {
        "id": "WkRtrv1Tat6e"
      }
    },
    {
      "cell_type": "markdown",
      "source": [
        "# **Answer 6**"
      ],
      "metadata": {
        "id": "SL4YRGK_bKb_"
      }
    },
    {
      "cell_type": "code",
      "source": [
        "from sklearn.datasets import make_classification\n",
        "import numpy as np\n",
        "from collections import Counter\n",
        "\n",
        "# 1. Create synthetic imbalanced dataset\n",
        "X, y = make_classification(n_samples=20000,       # total samples\n",
        "                           n_features=100,        # number of features\n",
        "                           n_informative=50,      # useful features\n",
        "                           n_redundant=22,        # redundant features\n",
        "                           n_clusters_per_class=134,\n",
        "                           weights=[0.9, 0.1],   # imbalance: 90% vs 10%\n",
        "                           random_state=42)\n",
        "\n",
        "# 2. Print class distribution\n",
        "class_counts = Counter(y)\n",
        "print(\"Class distribution:\", class_counts)\n"
      ],
      "metadata": {
        "colab": {
          "base_uri": "https://localhost:8080/"
        },
        "id": "TTEXXk_LbOMu",
        "outputId": "e19a754e-f9bf-4d47-87d9-a4ac8659029f"
      },
      "execution_count": 2,
      "outputs": [
        {
          "output_type": "stream",
          "name": "stdout",
          "text": [
            "Class distribution: Counter({np.int64(0): 17951, np.int64(1): 2049})\n"
          ]
        }
      ]
    },
    {
      "cell_type": "markdown",
      "source": [
        "# **Answer 7**"
      ],
      "metadata": {
        "id": "DDXRQiaTkHJk"
      }
    },
    {
      "cell_type": "code",
      "source": [
        "import pandas as pd\n",
        "\n",
        "# 1. Input list\n",
        "colors = ['Red', 'Green', 'Blue', 'Green', 'Red']\n",
        "\n",
        "# 2. Create DataFrame\n",
        "DataFrame = pd.DataFrame({'Color': colors})\n",
        "\n",
        "# 3. Apply One-Hot Encoding\n",
        "one_hot = pd.get_dummies(DataFrame['Color'])\n",
        "\n",
        "\n",
        "\n",
        "# 4. Print final DataFrame\n",
        "print(DataFrame)\n",
        "print(one_hot)"
      ],
      "metadata": {
        "colab": {
          "base_uri": "https://localhost:8080/"
        },
        "id": "vHHwSokYkZFM",
        "outputId": "10d36d6e-d05b-41bc-c5c7-30c190a89a84"
      },
      "execution_count": 3,
      "outputs": [
        {
          "output_type": "stream",
          "name": "stdout",
          "text": [
            "   Color\n",
            "0    Red\n",
            "1  Green\n",
            "2   Blue\n",
            "3  Green\n",
            "4    Red\n",
            "    Blue  Green    Red\n",
            "0  False  False   True\n",
            "1  False   True  False\n",
            "2   True  False  False\n",
            "3  False   True  False\n",
            "4  False  False   True\n"
          ]
        }
      ]
    },
    {
      "cell_type": "markdown",
      "source": [
        "# **Answer 8**"
      ],
      "metadata": {
        "id": "5g33rgHqme1k"
      }
    },
    {
      "cell_type": "code",
      "source": [
        "import numpy as np\n",
        "import pandas as pd\n",
        "import matplotlib.pyplot as plt\n",
        "\n",
        "# 1. Generate 1000 samples from a normal distribution\n",
        "np.random.seed(42)  # reproducibility\n",
        "data = np.random.normal(loc=50, scale=10, size=1000)  # mean=50, std=10\n",
        "\n",
        "# 2. Convert to DataFrame\n",
        "df = pd.DataFrame(data, columns=['Values'])\n",
        "\n",
        "# 3. Introduce 50 random missing values\n",
        "missing_indices = np.random.choice(df.index, 50, replace=False)\n",
        "df.loc[missing_indices, 'Values'] = np.nan\n",
        "\n",
        "# 4. Store a copy for 'before imputation'\n",
        "df_before = df.copy()\n",
        "\n",
        "# 5. Fill missing values with column mean\n",
        "mean_value = df['Values'].mean()\n",
        "df['Values'].fillna(mean_value, inplace=True)\n"
      ],
      "metadata": {
        "colab": {
          "base_uri": "https://localhost:8080/"
        },
        "id": "0lLIGgizmfxl",
        "outputId": "b3110f86-3283-45e9-a37d-c4c75fac166b"
      },
      "execution_count": 8,
      "outputs": [
        {
          "output_type": "stream",
          "name": "stderr",
          "text": [
            "/tmp/ipython-input-588272398.py:21: FutureWarning: A value is trying to be set on a copy of a DataFrame or Series through chained assignment using an inplace method.\n",
            "The behavior will change in pandas 3.0. This inplace method will never work because the intermediate object on which we are setting values always behaves as a copy.\n",
            "\n",
            "For example, when doing 'df[col].method(value, inplace=True)', try using 'df.method({col: value}, inplace=True)' or df[col] = df[col].method(value) instead, to perform the operation inplace on the original object.\n",
            "\n",
            "\n",
            "  df['Values'].fillna(mean_value, inplace=True)\n"
          ]
        }
      ]
    },
    {
      "cell_type": "code",
      "source": [
        "# 6. Plot histograms before and after imputation\n",
        "plt.figure(figsize=(10, 5))\n",
        "\n",
        "# Before imputation\n",
        "plt.subplot(1, 2, 1)\n",
        "plt.hist(df_before['Values'], bins=30, color='skyblue', edgecolor='black')\n",
        "plt.title(\"Before Imputation\")\n",
        "plt.xlabel(\"Value\")\n",
        "plt.ylabel(\"Frequency\")\n",
        "\n",
        "# After imputation\n",
        "plt.subplot(1, 2, 2)\n",
        "plt.hist(df['Values'], bins=30, color='lightgreen', edgecolor='black')\n",
        "plt.title(\"After Imputation (Mean)\")\n",
        "plt.xlabel(\"Value\")\n",
        "plt.ylabel(\"Frequency\")\n",
        "\n",
        "plt.tight_layout()\n",
        "plt.show()\n",
        "\n",
        "# Print check\n",
        "print(\"Number of missing values before imputation:\", df_before['Values'].isnull().sum())\n",
        "print(\"Number of missing values after imputation:\", df['Values'].isnull().sum())\n"
      ],
      "metadata": {
        "colab": {
          "base_uri": "https://localhost:8080/",
          "height": 542
        },
        "id": "j0K6sZN9qU6W",
        "outputId": "7a34ff33-fe4b-4432-f026-0de75e6c8215"
      },
      "execution_count": 9,
      "outputs": [
        {
          "output_type": "display_data",
          "data": {
            "text/plain": [
              "<Figure size 1000x500 with 2 Axes>"
            ],
            "image/png": "[encoded data removed]"
          },
          "metadata": {}
        },
        {
          "output_type": "stream",
          "name": "stdout",
          "text": [
            "Number of missing values before imputation: 50\n",
            "Number of missing values after imputation: 0\n"
          ]
        }
      ]
    },
    {
      "cell_type": "markdown",
      "source": [
        "# **Answer 9**"
      ],
      "metadata": {
        "id": "kilkya6jnRCk"
      }
    },
    {
      "cell_type": "code",
      "source": [
        "from sklearn.preprocessing import MinMaxScaler\n",
        "import numpy as np\n",
        "\n",
        "# 1. Input data\n",
        "data = np.array([2, 5, 10, 15, 20]).reshape(-1, 1)\n",
        "\n",
        "# 2. Apply Min-Max Scaling\n",
        "scaler = MinMaxScaler()\n",
        "scaled_data = scaler.fit_transform(data)\n",
        "\n",
        "# 3. Print result\n",
        "print(\"Original Data:\\n\", data.flatten())\n",
        "print(\"Scaled Data:\\n\", scaled_data.flatten())\n"
      ],
      "metadata": {
        "colab": {
          "base_uri": "https://localhost:8080/"
        },
        "id": "F07PbO4wnUUd",
        "outputId": "622920d4-80b1-43a2-f74e-5339fce32553"
      },
      "execution_count": 7,
      "outputs": [
        {
          "output_type": "stream",
          "name": "stdout",
          "text": [
            "Original Data:\n",
            " [ 2  5 10 15 20]\n",
            "Scaled Data:\n",
            " [0.         0.16666667 0.44444444 0.72222222 1.        ]\n"
          ]
        }
      ]
    },
    {
      "cell_type": "markdown",
      "source": [
        "# **Answer 10**"
      ],
      "metadata": {
        "id": "c4AOTX79ohcd"
      }
    },
    {
      "cell_type": "code",
      "source": [],
      "metadata": {
        "id": "faHvHeTxokW1"
      },
      "execution_count": null,
      "outputs": []
    }
  ]
}